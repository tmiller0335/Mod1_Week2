{
 "cells": [
  {
   "cell_type": "code",
   "execution_count": 1,
   "id": "10aa3ea2",
   "metadata": {},
   "outputs": [
    {
     "name": "stdout",
     "output_type": "stream",
     "text": [
      "Greater than 5\n"
     ]
    }
   ],
   "source": [
    "x = 7\n",
    "if x > 10:\n",
    "    print(\"Greater than 10\")\n",
    "elif x > 5:\n",
    "    print(\"Greater than 5\")\n",
    "else:\n",
    "    print(\"5 or less\")"
   ]
  },
  {
   "cell_type": "code",
   "execution_count": 2,
   "id": "e7a46ac1",
   "metadata": {},
   "outputs": [
    {
     "name": "stdout",
     "output_type": "stream",
     "text": [
      "Condition met\n"
     ]
    }
   ],
   "source": [
    "x = 8\n",
    "y = 3 \n",
    "if x > 5 and y < 5:\n",
    "    print(\"Condition met\")\n",
    "else:\n",
    "    print(\"Condition not met\")\n",
    "    "
   ]
  },
  {
   "cell_type": "code",
   "execution_count": 5,
   "id": "614c1781",
   "metadata": {},
   "outputs": [
    {
     "name": "stdout",
     "output_type": "stream",
     "text": [
      "hot\n"
     ]
    }
   ],
   "source": [
    "temperature =int(input(\"How many degrees (Celsius) is it?\"))\n",
    "if temperature > 30:\n",
    "    print(\"hot\")\n",
    "elif temperature > 20:\n",
    "    print(\"warm\")\n",
    "else:\n",
    "    print(\"cold\")"
   ]
  },
  {
   "cell_type": "code",
   "execution_count": 9,
   "id": "cc50c858",
   "metadata": {},
   "outputs": [
    {
     "name": "stdout",
     "output_type": "stream",
     "text": [
      "It's warm\n",
      "Warm and dry, beautiful!\n",
      "Warm, dry, windless: Just lie in the sun\n"
     ]
    }
   ],
   "source": [
    "temperature = int(input(\"Pleasue insert the current temperature: \"))\n",
    "rain = False\n",
    "wind = False\n",
    "\n",
    "if temperature > 20:\n",
    "    print(\"It's warm\")\n",
    "    if rain:\n",
    "        print(\"Warm & raining: Summer in Aachen\")\n",
    "        if wind:\n",
    "            print(\"It's warm, it rains and it's windy!\")\n",
    "        else:\n",
    "            print(\"Warm, raining, but no wind at all\")\n",
    "    else:\n",
    "        print(\"Warm and dry, beautiful!\")\n",
    "        if wind:\n",
    "            print(\"Warm, dry, and windy: Good weather for sailing\")\n",
    "        else:\n",
    "            print(\"Warm, dry, windless: Just lie in the sun\")\n",
    "else:\n",
    "    print(\"If it's cold, I don't care about the rain and wind\")\n",
    "\n"
   ]
  },
  {
   "cell_type": "code",
   "execution_count": 29,
   "id": "751b8bb0",
   "metadata": {},
   "outputs": [
    {
     "name": "stdout",
     "output_type": "stream",
     "text": [
      "Withdrawal successful. New balance: 0\n"
     ]
    }
   ],
   "source": [
    "entered_pin= int(input(\"Enter your pin: \"))\n",
    "correct_pin = 1234\n",
    "account_balance = 1000\n",
    "\n",
    "if entered_pin == correct_pin:\n",
    "        amount = int(input(\"Welcome. How much money do you want to withdraw?  \"))\n",
    "        \n",
    "        if account_balance >= amount:\n",
    "            account_balance -= amount\n",
    "            print(f\"Withdrawal successful. New balance: {account_balance}\")\n",
    "        else:\n",
    "            print(\"Insufficient funds.\")\n",
    "\n",
    "else: \n",
    "    print(\"Incorrect pin. Please try again.\")\n"
   ]
  },
  {
   "cell_type": "code",
   "execution_count": 30,
   "id": "89914823",
   "metadata": {},
   "outputs": [
    {
     "name": "stdout",
     "output_type": "stream",
     "text": [
      "x is between 10 and 30\n"
     ]
    }
   ],
   "source": [
    "x = 20\n",
    "if x > 10:\n",
    "    if x < 30:\n",
    "        print(\"x is between 10 and 30\")"
   ]
  },
  {
   "cell_type": "code",
   "execution_count": null,
   "id": "0159856f",
   "metadata": {},
   "outputs": [],
   "source": []
  },
  {
   "cell_type": "code",
   "execution_count": null,
   "id": "88374a90",
   "metadata": {},
   "outputs": [],
   "source": []
  }
 ],
 "metadata": {
  "kernelspec": {
   "display_name": "Python 3",
   "language": "python",
   "name": "python3"
  },
  "language_info": {
   "codemirror_mode": {
    "name": "ipython",
    "version": 3
   },
   "file_extension": ".py",
   "mimetype": "text/x-python",
   "name": "python",
   "nbconvert_exporter": "python",
   "pygments_lexer": "ipython3",
   "version": "3.13.4"
  }
 },
 "nbformat": 4,
 "nbformat_minor": 5
}
